{
  "cells": [
    {
      "cell_type": "markdown",
      "metadata": {},
      "source": [
        "# Phase1:"
      ]
    },
    {
      "cell_type": "markdown",
      "metadata": {},
      "source": [
        "## Goal of Collecting Dataset:"
      ]
    },
    {
      "cell_type": "markdown",
      "metadata": {},
      "source": [
        "The primary goal of analyzing this dataset is to:\n",
        "\n",
        "Performance Analysis: Assess team and player performances by examining various metrics such as goals, assists, and other key statistics.\n",
        "\n",
        "Outcome Prediction: Develop models to predict match outcomes or player performances based on historical data.\n",
        "\n",
        "Trend Identification: Discover trends and patterns in match results, player statistics, and team strategies.\n",
        "\n",
        "We will achieve this by clustering data and classifying it using machine learning techniques acquired during the course."
      ]
    },
    {
      "cell_type": "markdown",
      "metadata": {},
      "source": [
        "## Source of Dataset:"
      ]
    },
    {
      "cell_type": "markdown",
      "metadata": {},
      "source": [
        "Kaggle Platform Dataset link: https://www.kaggle.com/datasets/evangower/fifa-world-cup"
      ]
    },
    {
      "cell_type": "markdown",
      "metadata": {},
      "source": [
        "## General Information about the Dataset:"
      ]
    },
    {
      "cell_type": "markdown",
      "metadata": {},
      "source": [
        "Number of Attributes:15\n",
        "\n",
        "Number of Objects:900 (Match)\n",
        "\n",
        "Class Name/Labels: outcome"
      ]
    },
    {
      "cell_type": "code",
      "execution_count": 1,
      "metadata": {},
      "outputs": [
        {
          "name": "stdout",
          "output_type": "stream",
          "text": [
            "<class 'pandas.core.frame.DataFrame'>\n",
            "RangeIndex: 900 entries, 0 to 899\n",
            "Data columns (total 15 columns):\n",
            " #   Column          Non-Null Count  Dtype \n",
            "---  ------          --------------  ----- \n",
            " 0   year            900 non-null    int64 \n",
            " 1   country         900 non-null    object\n",
            " 2   city            900 non-null    object\n",
            " 3   stage           900 non-null    object\n",
            " 4   home_team       900 non-null    object\n",
            " 5   away_team       900 non-null    object\n",
            " 6   home_score      900 non-null    int64 \n",
            " 7   away_score      900 non-null    int64 \n",
            " 8   outcome         900 non-null    object\n",
            " 9   win_conditions  62 non-null     object\n",
            " 10  winning_team    731 non-null    object\n",
            " 11  losing_team     731 non-null    object\n",
            " 12  date            900 non-null    object\n",
            " 13  month           900 non-null    object\n",
            " 14  dayofweek       900 non-null    object\n",
            "dtypes: int64(3), object(12)\n",
            "memory usage: 105.6+ KB\n",
            "None\n",
            "Number of rows: 900\n"
          ]
        }
      ],
      "source": [
        "import pandas as pd\n",
        "\n",
        "df = pd.read_csv('Dataset/wcmatches.csv')\n",
        "\n",
        "print(df.info())\n",
        "\n",
        "num_row = len(df)\n",
        "print(\"Number of rows:\", num_row)"
      ]
    },
    {
      "cell_type": "markdown",
      "metadata": {},
      "source": [
        "-----------------------------------------------------------------------------------------------------------------------"
      ]
    },
    {
      "cell_type": "markdown",
      "metadata": {},
      "source": [
        "# Phase2:"
      ]
    },
    {
      "cell_type": "markdown",
      "metadata": {},
      "source": [
        "| Attributes Name | Data type | Description | Possible Values |\n",
        "|----------|----------|----------|----------|\n",
        "|Year |\tInteger| The year of the match |\tAny year (e.g., 1930, 1934, etc.)|\n",
        "|Country |\tString |The country hosting the World Cup |  Categorical string values (different possible)|\n",
        "|City\t| String |\tThe city where the match took place\t | Categorical string values (different possible)|\n",
        "|Stage\t| String|\tThe stage of the tournament | Categorical string values (different possible)|\n",
        "|Home Team |\tString | The team playing at home |\tCategorical string values (different possible)|\n",
        "|Away Team |\tString |\tThe team playing away |\tCategorical string values (different possible)|\n",
        "|Home Score |\tInteger\t| The score of the home team |\t0-10|\n",
        "|Away Score\t| Integer |\tThe score of the away team |\t0-8|\n",
        "|Outcome |\tString | The result of the match |\tH (Home win), A (Away win), D (Draw)|\n",
        "|Win Conditions |\tString |\tConditions under which the winning team was determined\tSpecific phrases |Categorical string values (different possible)|\n",
        "|Winning Team |\tString | The team that won the match |\tCategorical string values (different possible)|\n",
        "|Losing Team|\tString | The team that lost the match |\tCategorical string values (different possible)|\n",
        "|Date |Date |\tThe date of the match |\tDatetime |\n",
        "|Month |String\t|The month in which the match took place|Categorical string values (different possible)|\n",
        "|DayOfWeek |\tString |\tThe day of the week when the match occurred | Categorical string values (different possible)|\n"
      ]
    },
    {
      "cell_type": "markdown",
      "metadata": {},
      "source": [
        "## Sample"
      ]
    },
    {
      "cell_type": "code",
      "execution_count": 3,
      "metadata": {},
      "outputs": [
        {
          "name": "stdout",
          "output_type": "stream",
          "text": [
            "     year      country               city        stage     home_team  \\\n",
            "301  1978    Argentina            Mendoza      Group B          Peru   \n",
            "689  2006      Germany            Hanover      Group H   Switzerland   \n",
            "3    1930      Uruguay         Montevideo      Group 3          Peru   \n",
            "887  2018       Russia    Nizhny Novgorod  Round of 16       Croatia   \n",
            "431  1990        Italy           Cagliari      Group F       England   \n",
            "372  1986       Mexico               León      Group C        France   \n",
            "151  1962        Chile       Viña del Mar      Group 3        Mexico   \n",
            "517  1998       France        Montpellier      Group A       Morocco   \n",
            "870  2018       Russia        Kaliningrad      Group B         Spain   \n",
            "249  1974      Germany      Gelsenkirchen      Group 2         Zaire   \n",
            "105  1958       Sweden         Norrköping      Group 2        France   \n",
            "564  1998       France              Paris  Round of 16        Brazil   \n",
            "669  2006      Germany  Frankfurt am Main      Group D      Portugal   \n",
            "516  1998       France        Saint-Denis      Group A        Brazil   \n",
            "867  2018       Russia              Kazan      Group H        Poland   \n",
            "614  2002        Japan           Yokohama      Group E  Saudi Arabia   \n",
            "164  1962        Chile           Santiago   Semifinals         Chile   \n",
            "69   1950       Brazil     Rio de Janeiro  Final Round        Brazil   \n",
            "324  1982        Spain          La Coruña      Group 1        Poland   \n",
            "89   1954  Switzerland             Geneva      Group 2   South Korea   \n",
            "\n",
            "               away_team  home_score  away_score outcome  \\\n",
            "301               Poland           0           1       A   \n",
            "689          South Korea           2           0       H   \n",
            "3                Romania           1           3       A   \n",
            "887              Denmark           1           1       H   \n",
            "431          Netherlands           0           0       D   \n",
            "372         Soviet Union           1           1       D   \n",
            "151                Spain           0           1       A   \n",
            "517               Norway           2           2       D   \n",
            "870              Morocco           2           2       D   \n",
            "249               Brazil           0           3       A   \n",
            "105             Paraguay           7           3       H   \n",
            "564                Chile           4           1       H   \n",
            "669                 Iran           2           0       H   \n",
            "516             Scotland           2           1       H   \n",
            "867             Colombia           0           3       A   \n",
            "614  Republic of Ireland           0           3       A   \n",
            "164               Brazil           2           4       A   \n",
            "69                Sweden           7           1       H   \n",
            "324             Cameroon           0           0       D   \n",
            "89                Turkey           0           7       A   \n",
            "\n",
            "                      win_conditions         winning_team   losing_team  \\\n",
            "301                              NaN               Poland          Peru   \n",
            "689                              NaN          Switzerland   South Korea   \n",
            "3                                NaN              Romania          Peru   \n",
            "887  Croatia won in penalties (3- 2)              Croatia       Denmark   \n",
            "431                              NaN                  NaN           NaN   \n",
            "372                              NaN                  NaN           NaN   \n",
            "151                              NaN                Spain        Mexico   \n",
            "517                              NaN                  NaN           NaN   \n",
            "870                              NaN                  NaN           NaN   \n",
            "249                              NaN               Brazil         Zaire   \n",
            "105                              NaN               France      Paraguay   \n",
            "564                              NaN               Brazil         Chile   \n",
            "669                              NaN             Portugal          Iran   \n",
            "516                              NaN               Brazil      Scotland   \n",
            "867                              NaN             Colombia        Poland   \n",
            "614                              NaN  Republic of Ireland  Saudi Arabia   \n",
            "164                              NaN               Brazil         Chile   \n",
            "69                               NaN               Brazil        Sweden   \n",
            "324                              NaN                  NaN           NaN   \n",
            "89                               NaN               Turkey   South Korea   \n",
            "\n",
            "           date month  dayofweek  \n",
            "301  1978-06-18   Jun     Sunday  \n",
            "689  2006-06-23   Jun     Friday  \n",
            "3    1930-07-14   Jul     Monday  \n",
            "887  2018-07-01   Jul     Sunday  \n",
            "431  1990-06-16   Jun   Saturday  \n",
            "372  1986-06-05   Jun   Thursday  \n",
            "151  1962-06-03   Jun     Sunday  \n",
            "517  1998-06-10   Jun  Wednesday  \n",
            "870  2018-06-25   Jun     Monday  \n",
            "249  1974-06-22   Jun   Saturday  \n",
            "105  1958-06-08   Jun     Sunday  \n",
            "564  1998-06-27   Jun   Saturday  \n",
            "669  2006-06-17   Jun   Saturday  \n",
            "516  1998-06-10   Jun  Wednesday  \n",
            "867  2018-06-24   Jun     Sunday  \n",
            "614  2002-06-11   Jun    Tuesday  \n",
            "164  1962-06-13   Jun  Wednesday  \n",
            "69   1950-07-09   Jul     Sunday  \n",
            "324  1982-06-19   Jun   Saturday  \n",
            "89   1954-06-20   Jun     Sunday  \n"
          ]
        }
      ],
      "source": [
        "sample = df.sample(n=20)\n",
        "print(sample);"
      ]
    },
    {
      "cell_type": "markdown",
      "metadata": {},
      "source": [
        "## Show the Min., 1st Qu., Median, Mean ,3rd Qu.,Max. for each numeric column:"
      ]
    },
    {
      "cell_type": "code",
      "execution_count": 4,
      "metadata": {},
      "outputs": [
        {
          "name": "stdout",
          "output_type": "stream",
          "text": [
            "              year  home_score  away_score\n",
            "count   900.000000  900.000000  900.000000\n",
            "mean   1986.915556    1.568889    1.262222\n",
            "std      23.150270    1.489574    1.313960\n",
            "min    1930.000000    0.000000    0.000000\n",
            "25%    1970.000000    0.000000    0.000000\n",
            "50%    1990.000000    1.000000    1.000000\n",
            "75%    2006.000000    2.000000    2.000000\n",
            "max    2018.000000   10.000000    8.000000\n"
          ]
        }
      ],
      "source": [
        "summary_stats=df.describe();\n",
        "print(summary_stats);"
      ]
    },
    {
      "cell_type": "markdown",
      "metadata": {},
      "source": [
        "## Show the Variance:"
      ]
    },
    {
      "cell_type": "code",
      "execution_count": 5,
      "metadata": {},
      "outputs": [
        {
          "name": "stdout",
          "output_type": "stream",
          "text": [
            "year          535.935019\n",
            "home_score      2.218831\n",
            "away_score      1.726491\n",
            "dtype: float64\n"
          ]
        }
      ],
      "source": [
        "variance= df.var(numeric_only=True);\n",
        "print(variance);"
      ]
    },
    {
      "cell_type": "markdown",
      "metadata": {},
      "source": [
        "## Data Preprocessing:"
      ]
    },
    {
      "cell_type": "markdown",
      "metadata": {},
      "source": [
        "### Data Cleaning:"
      ]
    },
    {
      "cell_type": "markdown",
      "metadata": {},
      "source": [
        "#### 1-Remove duplicates:"
      ]
    },
    {
      "cell_type": "markdown",
      "metadata": {},
      "source": [
        "##### First, we count the number of duplicates rows, and then we remove them:"
      ]
    },
    {
      "cell_type": "code",
      "execution_count": 6,
      "metadata": {},
      "outputs": [
        {
          "name": "stdout",
          "output_type": "stream",
          "text": [
            "Number of duplicate rows: 0\n",
            "DataFrame after dropping all duplicate rows:\n",
            "     year  country              city          stage  home_team      away_team  \\\n",
            "0    1930  Uruguay        Montevideo        Group 1     France         Mexico   \n",
            "1    1930  Uruguay        Montevideo        Group 4    Belgium  United States   \n",
            "2    1930  Uruguay        Montevideo        Group 2     Brazil     Yugoslavia   \n",
            "3    1930  Uruguay        Montevideo        Group 3       Peru        Romania   \n",
            "4    1930  Uruguay        Montevideo        Group 1  Argentina         France   \n",
            "..    ...      ...               ...            ...        ...            ...   \n",
            "895  2018   Russia             Sochi  Quarterfinals     Russia        Croatia   \n",
            "896  2018   Russia  Saint Petersburg     Semifinals     France        Belgium   \n",
            "897  2018   Russia            Moscow     Semifinals    Croatia        England   \n",
            "898  2018   Russia  Saint Petersburg    Third place    Belgium        England   \n",
            "899  2018   Russia            Moscow          Final     France        Croatia   \n",
            "\n",
            "     home_score  away_score outcome                    win_conditions  \\\n",
            "0             4           1       H                               NaN   \n",
            "1             0           3       A                               NaN   \n",
            "2             1           2       A                               NaN   \n",
            "3             1           3       A                               NaN   \n",
            "4             1           0       H                               NaN   \n",
            "..          ...         ...     ...                               ...   \n",
            "895           2           2       A  Croatia won in penalties (4 - 3)   \n",
            "896           1           0       H                               NaN   \n",
            "897           2           1       H                Croatia won in AET   \n",
            "898           2           0       H                               NaN   \n",
            "899           4           2       H                               NaN   \n",
            "\n",
            "      winning_team losing_team        date month  dayofweek  \n",
            "0           France      Mexico  1930-07-13   Jul     Sunday  \n",
            "1    United States     Belgium  1930-07-13   Jul     Sunday  \n",
            "2       Yugoslavia      Brazil  1930-07-14   Jul     Monday  \n",
            "3          Romania        Peru  1930-07-14   Jul     Monday  \n",
            "4        Argentina      France  1930-07-15   Jul    Tuesday  \n",
            "..             ...         ...         ...   ...        ...  \n",
            "895        Croatia      Russia  2018-07-07   Jul   Saturday  \n",
            "896         France     Belgium  2018-07-10   Jul    Tuesday  \n",
            "897        Croatia     England  2018-07-11   Jul  Wednesday  \n",
            "898        Belgium     England  2018-07-14   Jul   Saturday  \n",
            "899         France     Croatia  2018-07-15   Jul     Sunday  \n",
            "\n",
            "[900 rows x 15 columns]\n"
          ]
        }
      ],
      "source": [
        "import pandas as pd\n",
        "data = pd.read_csv('Dataset/wcmatches.csv')\n",
        "num_duplicates = data.duplicated().sum()\n",
        "data_cleaned = data.drop_duplicates()\n",
        "print(\"Number of duplicate rows:\", num_duplicates)\n",
        "print(\"DataFrame after dropping all duplicate rows:\")\n",
        "print(data_cleaned)\n",
        "data_cleaned.to_csv('Cleaned_dataset.csv', index=False)"
      ]
    },
    {
      "cell_type": "markdown",
      "metadata": {},
      "source": [
        "This shows that our dataset has no duplicate rows, so the total number of rows remains unchanged at 900."
      ]
    },
    {
      "cell_type": "markdown",
      "metadata": {},
      "source": [
        "#### 2-Handling Missing Values:"
      ]
    },
    {
      "cell_type": "markdown",
      "metadata": {},
      "source": [
        "##### First, we calculate the number of missing values in our dataset:"
      ]
    },
    {
      "cell_type": "code",
      "execution_count": 7,
      "metadata": {},
      "outputs": [
        {
          "name": "stdout",
          "output_type": "stream",
          "text": [
            "     year        country               city          stage     home_team  \\\n",
            "335  1982          Spain           Alicante        Group 3     Argentina   \n",
            "78   1954    Switzerland           Lausanne        Group 1        France   \n",
            "561  1998         France               Lens        Group G      Colombia   \n",
            "483  1994  United States            Pontiac        Group B        Sweden   \n",
            "624  2002          Japan            Fukuroi        Group H       Belgium   \n",
            "91   1954    Switzerland             Zürich        Group 2  West Germany   \n",
            "244  1974        Germany          Stuttgart        Group 4     Argentina   \n",
            "752  2010   South Africa           Pretoria        Group H         Chile   \n",
            "796  2014         Brazil             Recife        Group D         Italy   \n",
            "242  1974        Germany  Frankfurt am Main        Group 2      Scotland   \n",
            "472  1994  United States          Palo Alto        Group B        Brazil   \n",
            "21   1934          Italy              Genoa    Round of 16        Brazil   \n",
            "737  2010   South Africa     Port Elizabeth        Group H         Chile   \n",
            "163  1962          Chile           Santiago  Quarterfinals  West Germany   \n",
            "578  1998         France              Paris    Third place   Netherlands   \n",
            "104  1958         Sweden         Gothenburg        Group 4       England   \n",
            "620  2002    South Korea              Suwon        Group C    Costa Rica   \n",
            "212  1970         Mexico        Guadalajara        Group 3        Brazil   \n",
            "663  2006        Germany             Berlin        Group B        Sweden   \n",
            "894  2018         Russia             Samara  Quarterfinals        Sweden   \n",
            "\n",
            "        away_team  home_score  away_score outcome win_conditions  \\\n",
            "335   El Salvador           2           0       H            NaN   \n",
            "78     Yugoslavia           0           1       A            NaN   \n",
            "561       England           0           2       A            NaN   \n",
            "483        Russia           3           1       H            NaN   \n",
            "624        Russia           3           2       H            NaN   \n",
            "91         Turkey           7           2       H            NaN   \n",
            "244         Italy           1           1       D            NaN   \n",
            "752         Spain           1           2       A            NaN   \n",
            "796    Costa Rica           0           1       A            NaN   \n",
            "242        Brazil           0           0       D            NaN   \n",
            "472        Russia           2           0       H            NaN   \n",
            "21          Spain           1           3       A            NaN   \n",
            "737   Switzerland           1           0       H            NaN   \n",
            "163    Yugoslavia           0           1       A            NaN   \n",
            "578       Croatia           1           2       A            NaN   \n",
            "104  Soviet Union           2           2       D            NaN   \n",
            "620        Brazil           2           5       A            NaN   \n",
            "212       England           1           0       H            NaN   \n",
            "663      Paraguay           1           0       H            NaN   \n",
            "894       England           0           2       A            NaN   \n",
            "\n",
            "     winning_team   losing_team        date month  dayofweek  \n",
            "335     Argentina   El Salvador  1982-06-23   Jun  Wednesday  \n",
            "78     Yugoslavia        France  1954-06-16   Jun  Wednesday  \n",
            "561       England      Colombia  1998-06-26   Jun     Friday  \n",
            "483        Sweden        Russia  1994-06-24   Jun     Friday  \n",
            "624       Belgium        Russia  2002-06-14   Jun     Friday  \n",
            "91   West Germany        Turkey  1954-06-23   Jun  Wednesday  \n",
            "244           NaN           NaN  1974-06-19   Jun  Wednesday  \n",
            "752         Spain         Chile  2010-06-25   Jun     Friday  \n",
            "796    Costa Rica         Italy  2014-06-20   Jun     Friday  \n",
            "242           NaN           NaN  1974-06-18   Jun    Tuesday  \n",
            "472        Brazil        Russia  1994-06-20   Jun     Monday  \n",
            "21          Spain        Brazil  1934-05-27   May     Sunday  \n",
            "737         Chile   Switzerland  2010-06-21   Jun     Monday  \n",
            "163    Yugoslavia  West Germany  1962-06-10   Jun     Sunday  \n",
            "578       Croatia   Netherlands  1998-07-11   Jul   Saturday  \n",
            "104           NaN           NaN  1958-06-08   Jun     Sunday  \n",
            "620        Brazil    Costa Rica  2002-06-13   Jun   Thursday  \n",
            "212        Brazil       England  1970-06-07   Jun     Sunday  \n",
            "663        Sweden      Paraguay  2006-06-15   Jun   Thursday  \n",
            "894       England        Sweden  2018-07-07   Jul   Saturday  \n",
            "Missing values in each column:\n",
            "year                0\n",
            "country             0\n",
            "city                0\n",
            "stage               0\n",
            "home_team           0\n",
            "away_team           0\n",
            "home_score          0\n",
            "away_score          0\n",
            "outcome             0\n",
            "win_conditions    838\n",
            "winning_team      169\n",
            "losing_team       169\n",
            "date                0\n",
            "month               0\n",
            "dayofweek           0\n",
            "dtype: int64\n",
            "\n",
            "Rows with missing values:\n",
            "     year  country              city          stage  home_team      away_team  \\\n",
            "0    1930  Uruguay        Montevideo        Group 1     France         Mexico   \n",
            "1    1930  Uruguay        Montevideo        Group 4    Belgium  United States   \n",
            "2    1930  Uruguay        Montevideo        Group 2     Brazil     Yugoslavia   \n",
            "3    1930  Uruguay        Montevideo        Group 3       Peru        Romania   \n",
            "4    1930  Uruguay        Montevideo        Group 1  Argentina         France   \n",
            "..    ...      ...               ...            ...        ...            ...   \n",
            "893  2018   Russia             Kazan  Quarterfinals     Brazil        Belgium   \n",
            "894  2018   Russia            Samara  Quarterfinals     Sweden        England   \n",
            "896  2018   Russia  Saint Petersburg     Semifinals     France        Belgium   \n",
            "898  2018   Russia  Saint Petersburg    Third place    Belgium        England   \n",
            "899  2018   Russia            Moscow          Final     France        Croatia   \n",
            "\n",
            "     home_score  away_score outcome win_conditions   winning_team losing_team  \\\n",
            "0             4           1       H            NaN         France      Mexico   \n",
            "1             0           3       A            NaN  United States     Belgium   \n",
            "2             1           2       A            NaN     Yugoslavia      Brazil   \n",
            "3             1           3       A            NaN        Romania        Peru   \n",
            "4             1           0       H            NaN      Argentina      France   \n",
            "..          ...         ...     ...            ...            ...         ...   \n",
            "893           1           2       A            NaN        Belgium      Brazil   \n",
            "894           0           2       A            NaN        England      Sweden   \n",
            "896           1           0       H            NaN         France     Belgium   \n",
            "898           2           0       H            NaN        Belgium     England   \n",
            "899           4           2       H            NaN         France     Croatia   \n",
            "\n",
            "           date month dayofweek  \n",
            "0    1930-07-13   Jul    Sunday  \n",
            "1    1930-07-13   Jul    Sunday  \n",
            "2    1930-07-14   Jul    Monday  \n",
            "3    1930-07-14   Jul    Monday  \n",
            "4    1930-07-15   Jul   Tuesday  \n",
            "..          ...   ...       ...  \n",
            "893  2018-07-06   Jul    Friday  \n",
            "894  2018-07-07   Jul  Saturday  \n",
            "896  2018-07-10   Jul   Tuesday  \n",
            "898  2018-07-14   Jul  Saturday  \n",
            "899  2018-07-15   Jul    Sunday  \n",
            "\n",
            "[838 rows x 15 columns]\n"
          ]
        }
      ],
      "source": [
        "import pandas as pd\n",
        "data = pd.read_csv('Cleaned_dataset.csv');\n",
        "sample=data.sample(n=20);\n",
        "print(sample);\n",
        "missing_values = data.isna()\n",
        "missing_counts = missing_values.sum();\n",
        "rows_with_missing = data[data.isna().any(axis=1)];\n",
        "\n",
        "print(\"Missing values in each column:\");\n",
        "print(missing_counts);\n",
        "print(\"\\nRows with missing values:\");\n",
        "print(rows_with_missing);"
      ]
    },
    {
      "cell_type": "markdown",
      "metadata": {},
      "source": [
        "This shows that our dataset has missing values in multiple columns: 838 in the 'win_conditions' column, 169 in the 'winning_team' column, and 169 in the 'losing_team' column."
      ]
    },
    {
      "cell_type": "markdown",
      "metadata": {},
      "source": [
        "##### Secondly, we handle these missing values by calculating the mode value for the target columns ['win_conditions', 'winning_team', 'losing_team'], and then we replace the missing values with the mode."
      ]
    },
    {
      "cell_type": "code",
      "execution_count": 8,
      "metadata": {},
      "outputs": [
        {
          "name": "stdout",
          "output_type": "stream",
          "text": [
            "Missing values after filling:\n",
            "year              0\n",
            "country           0\n",
            "city              0\n",
            "stage             0\n",
            "home_team         0\n",
            "away_team         0\n",
            "home_score        0\n",
            "away_score        0\n",
            "outcome           0\n",
            "win_conditions    0\n",
            "winning_team      0\n",
            "losing_team       0\n",
            "date              0\n",
            "month             0\n",
            "dayofweek         0\n",
            "dtype: int64\n"
          ]
        }
      ],
      "source": [
        "import pandas as pd\n",
        "\n",
        "data = pd.read_csv('Cleaned_dataset.csv')\n",
        "\n",
        "data.columns = data.columns.str.strip()\n",
        "\n",
        "\n",
        "for column in ['win_conditions', 'winning_team', 'losing_team']:\n",
        "    modal_value = data[column].mode()[0]  \n",
        "    data[column] = data[column].fillna(value=modal_value)  \n",
        "\n",
        "print(\"Missing values after filling:\")\n",
        "print(data.isnull().sum())\n",
        "\n",
        "data.to_csv('Cleaned_dataset.csv', index=False)\n",
        "\n"
      ]
    },
    {
      "cell_type": "markdown",
      "metadata": {},
      "source": [
        "and Here, the output shows that we handled all the missing values."
      ]
    },
    {
      "cell_type": "markdown",
      "metadata": {},
      "source": [
        "#### 3-Handling outliers:"
      ]
    },
    {
      "cell_type": "markdown",
      "metadata": {},
      "source": [
        "##### Before we handle our outliers we did choose the IQR method Based on our dataset to identify how many outliers in our dataset."
      ]
    },
    {
      "cell_type": "code",
      "execution_count": 9,
      "metadata": {},
      "outputs": [
        {
          "name": "stdout",
          "output_type": "stream",
          "text": [
            "Outlier Counts:\n",
            "year: 0 rows with outliers\n",
            "home_score: 24 rows with outliers\n",
            "away_score: 11 rows with outliers\n",
            "Total Rows with Outliers: 35\n"
          ]
        }
      ],
      "source": [
        "import pandas as pd\n",
        "data = pd.read_csv('Cleaned_dataset.csv')\n",
        "import numpy as np\n",
        "outlier_threshold = 1.5\n",
        "\n",
        "def count_outliers(column_data):\n",
        "    q1 = np.percentile(column_data, 25)\n",
        "    q3 = np.percentile(column_data, 75)\n",
        "    iqr = q3 - q1\n",
        "    upper_bound = q3 + outlier_threshold * iqr\n",
        "    lower_bound = q1 - outlier_threshold * iqr\n",
        "    outliers = (column_data > upper_bound) | (column_data < lower_bound)\n",
        "    return sum(outliers)\n",
        "\n",
        "numeric_columns = data.select_dtypes(include=[np.number]).columns\n",
        "\n",
        "outlier_counts = {}\n",
        "total_rows_with_outliers = 0\n",
        "\n",
        "for column in numeric_columns:\n",
        "    outliers = count_outliers(data[column])\n",
        "    outlier_counts[column] = outliers\n",
        "    total_rows_with_outliers += outliers\n",
        "\n",
        "total_rows = len(data)\n",
        "\n",
        "print(\"Outlier Counts:\")\n",
        "for column, count in outlier_counts.items():\n",
        "    print(f\"{column}: {count} rows with outliers\")\n",
        "\n",
        "print(f\"Total Rows with Outliers: {total_rows_with_outliers}\")"
      ]
    },
    {
      "cell_type": "markdown",
      "metadata": {},
      "source": [
        "The analysis of our dataset revealed that a total of 35 rows contain outliers, which is a small proportion compared to the overall dataset of 900 rows. Specifically, there are 0 rows with outliers in the 'year' column, 24 rows in the 'home_score' column, and 11 rows in the 'away_score' column. Although this represents a limited number of outliers, their presence indicates some extreme values that deviate from the majority of the data. To address this issue, we have decided to adopt a strategy of capping the outliers. Rather than removing these data points entirely, we opted to replace them with the nearest non-outlier values. This approach allows us to retain the entirety of our dataset while mitigating the impact of these extreme values on our subsequent analyses. By capping the outliers and maintaining the remaining data, we aim to preserve the integrity of the dataset and avoid the potential loss of valuable information that would occur through outright removal of the outliers. This ensures that our analysis incorporates as much relevant information as possible while still accounting for the presence of extreme observations"
      ]
    },
    {
      "cell_type": "markdown",
      "metadata": {},
      "source": [
        "##### handling outliers:"
      ]
    },
    {
      "cell_type": "code",
      "execution_count": 10,
      "metadata": {},
      "outputs": [],
      "source": [
        "import pandas as pd\n",
        "import numpy as np\n",
        "\n",
        "data = pd.read_csv('Cleaned_dataset.csv')\n",
        "\n",
        "outlier_threshold = 1.5\n",
        "\n",
        "def count_outliers(column_data):\n",
        "    q1 = np.percentile(column_data, 25)\n",
        "    q3 = np.percentile(column_data, 75)\n",
        "    iqr = q3 - q1\n",
        "    upper_bound = q3 + outlier_threshold * iqr\n",
        "    lower_bound = q1 - outlier_threshold * iqr\n",
        "    outliers = (column_data > upper_bound) | (column_data < lower_bound)\n",
        "    return sum(outliers)\n",
        "\n",
        "numeric_columns = data.select_dtypes(include=[np.number]).columns\n",
        "\n",
        "outlier_counts = {}\n",
        "total_rows = len(data)\n",
        "\n",
        "for column in numeric_columns:\n",
        "    outliers = count_outliers(data[column])\n",
        "    outlier_counts[column] = outliers\n",
        "    \n",
        "    q1 = np.percentile(data[column], 25)\n",
        "    q3 = np.percentile(data[column], 75)\n",
        "    iqr = q3 - q1\n",
        "    upper_bound = q3 + outlier_threshold * iqr\n",
        "    lower_bound = q1 - outlier_threshold * iqr\n",
        "    data[column] = np.clip(data[column], lower_bound, upper_bound)\n",
        "\n",
        "data.to_csv('Cleaned_dataset.csv', index=False)"
      ]
    },
    {
      "cell_type": "markdown",
      "metadata": {},
      "source": [
        "##### Checking the results by counting outliers after handling them."
      ]
    },
    {
      "cell_type": "code",
      "execution_count": 3,
      "metadata": {},
      "outputs": [
        {
          "name": "stdout",
          "output_type": "stream",
          "text": [
            "Outlier Counts:\n",
            "year: 0 rows with outliers\n",
            "home_score: 0 rows with outliers\n",
            "away_score: 0 rows with outliers\n",
            "Total Rows with Outliers: 0\n"
          ]
        }
      ],
      "source": [
        "import pandas as pd\n",
        "import numpy as np\n",
        "\n",
        "data1 = pd.read_csv('Cleaned_dataset.csv')\n",
        "\n",
        "outlier_threshold = 1.5\n",
        "\n",
        "def count_outliers(column_data1):\n",
        "    q1 = np.percentile(column_data1, 25)\n",
        "    q3 = np.percentile(column_data1, 75)\n",
        "    iqr = q3 - q1\n",
        "    upper_bound = q3 + outlier_threshold * iqr\n",
        "    lower_bound = q1 - outlier_threshold * iqr\n",
        "    outliers = (column_data1 > upper_bound) | (column_data1 < lower_bound)\n",
        "    return sum(outliers)\n",
        "\n",
        "\n",
        "numeric_columns = data1.select_dtypes(include=[np.number]).columns\n",
        "\n",
        "\n",
        "outlier_counts = {}\n",
        "total_rows_with_outliers = 0\n",
        "\n",
        "\n",
        "for column in numeric_columns:\n",
        "    outliers = count_outliers(data1[column])\n",
        "    outlier_counts[column] = outliers\n",
        "    total_rows_with_outliers += outliers\n",
        "\n",
        "total_rows = len(data1)\n",
        "\n",
        "print(\"Outlier Counts:\")\n",
        "for column, count in outlier_counts.items():\n",
        "    print(f\"{column}: {count} rows with outliers\")\n",
        "\n",
        "print(f\"Total Rows with Outliers: {total_rows_with_outliers}\")\n"
      ]
    },
    {
      "cell_type": "markdown",
      "metadata": {},
      "source": [
        "### Data Transmission"
      ]
    },
    {
      "cell_type": "markdown",
      "metadata": {},
      "source": [
        "#### 1-Encoding"
      ]
    },
    {
      "cell_type": "code",
      "execution_count": 4,
      "metadata": {},
      "outputs": [
        {
          "ename": "NameError",
          "evalue": "name 'le_day' is not defined",
          "output_type": "error",
          "traceback": [
            "\u001b[0;31m---------------------------------------------------------------------------\u001b[0m",
            "\u001b[0;31mNameError\u001b[0m                                 Traceback (most recent call last)",
            "Cell \u001b[0;32mIn[4], line 10\u001b[0m\n\u001b[1;32m      8\u001b[0m data1[\u001b[38;5;124m'\u001b[39m\u001b[38;5;124mcity\u001b[39m\u001b[38;5;124m'\u001b[39m] \u001b[38;5;241m=\u001b[39m le\u001b[38;5;241m.\u001b[39mfit_transform(data1[\u001b[38;5;124m'\u001b[39m\u001b[38;5;124mcity\u001b[39m\u001b[38;5;124m'\u001b[39m])\n\u001b[1;32m      9\u001b[0m data1[\u001b[38;5;124m'\u001b[39m\u001b[38;5;124mstage\u001b[39m\u001b[38;5;124m'\u001b[39m] \u001b[38;5;241m=\u001b[39m le\u001b[38;5;241m.\u001b[39mfit_transform(data1[\u001b[38;5;124m'\u001b[39m\u001b[38;5;124mstage\u001b[39m\u001b[38;5;124m'\u001b[39m])\n\u001b[0;32m---> 10\u001b[0m data1[\u001b[38;5;124m'\u001b[39m\u001b[38;5;124mdayofweek\u001b[39m\u001b[38;5;124m'\u001b[39m] \u001b[38;5;241m=\u001b[39m \u001b[43mle_day\u001b[49m\u001b[38;5;241m.\u001b[39mfit_transform(data1[\u001b[38;5;124m'\u001b[39m\u001b[38;5;124mdayofweek\u001b[39m\u001b[38;5;124m'\u001b[39m])\n\u001b[1;32m     11\u001b[0m data1[\u001b[38;5;124m'\u001b[39m\u001b[38;5;124mmonth\u001b[39m\u001b[38;5;124m'\u001b[39m] \u001b[38;5;241m=\u001b[39m le_day\u001b[38;5;241m.\u001b[39mfit_transform(data1[\u001b[38;5;124m'\u001b[39m\u001b[38;5;124mmonth\u001b[39m\u001b[38;5;124m'\u001b[39m])\n\u001b[1;32m     12\u001b[0m \u001b[38;5;28mprint\u001b[39m(\u001b[38;5;124m'\u001b[39m\u001b[38;5;124mEncoded DataFrame\u001b[39m\u001b[38;5;124m'\u001b[39m)\n",
            "\u001b[0;31mNameError\u001b[0m: name 'le_day' is not defined"
          ]
        }
      ],
      "source": [
        "import pandas as pd\n",
        "from sklearn.preprocessing import LabelEncoder\n",
        "\n",
        "data1 = pd.read_csv('Cleaned_dataset.csv')\n",
        "\n",
        "le = LabelEncoder()\n",
        "data1['country'] = le.fit_transform(data1['country'])\n",
        "data1['city'] = le.fit_transform(data1['city'])\n",
        "data1['stage'] = le.fit_transform(data1['stage'])\n",
        "data1['dayofweek'] = le_day.fit_transform(data1['dayofweek'])\n",
        "data1['month'] = le_day.fit_transform(data1['month'])\n",
        "print('Encoded DataFrame')\n",
        "print(data1.head())"
      ]
    },
    {
      "cell_type": "markdown",
      "metadata": {},
      "source": [
        "#### 2-Normalization"
      ]
    },
    {
      "cell_type": "markdown",
      "metadata": {},
      "source": [
        "#### 3-Aggregation"
      ]
    },
    {
      "cell_type": "markdown",
      "metadata": {},
      "source": [
        "#### 4-Discretization"
      ]
    },
    {
      "cell_type": "markdown",
      "metadata": {},
      "source": [
        "## Feature Selection:"
      ]
    },
    {
      "cell_type": "markdown",
      "metadata": {},
      "source": [
        "### Correlation Coefficient:"
      ]
    },
    {
      "cell_type": "markdown",
      "metadata": {},
      "source": [
        "### Chi squared:"
      ]
    },
    {
      "cell_type": "markdown",
      "metadata": {},
      "source": [
        "### Drop Out Highly Correlated Attributes:"
      ]
    }
  ],
  "metadata": {
    "kernelspec": {
      "display_name": "Python 3",
      "language": "python",
      "name": "python3"
    },
    "language_info": {
      "codemirror_mode": {
        "name": "ipython",
        "version": 3
      },
      "file_extension": ".py",
      "mimetype": "text/x-python",
      "name": "python",
      "nbconvert_exporter": "python",
      "pygments_lexer": "ipython3",
      "version": "3.12.1"
    },
    "orig_nbformat": 4
  },
  "nbformat": 4,
  "nbformat_minor": 4
}
